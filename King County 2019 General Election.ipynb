{
 "cells": [
  {
   "cell_type": "code",
   "execution_count": null,
   "id": "3afdb409",
   "metadata": {},
   "outputs": [],
   "source": [
    "!pip install pandas\n",
    "!pip install sodapy\n",
    "!pip install pymssql\n"
   ]
  },
  {
   "cell_type": "code",
   "execution_count": null,
   "id": "6cb302e8",
   "metadata": {},
   "outputs": [],
   "source": [
    "import pymssql\n",
    "from getpass import getpass"
   ]
  },
  {
   "cell_type": "code",
   "execution_count": null,
   "id": "41404abd",
   "metadata": {},
   "outputs": [],
   "source": [
    "import pandas as pd\n",
    "from sodapy import Socrata\n",
    "\n",
    "# Unauthenticated client only works with public data sets. Note 'None'\n",
    "# in place of application token, and no username or password:\n",
    "#client = Socrata(\"data.kingcounty.gov\", None)\n",
    "\n",
    "#Uvg3EEyR1TnfEqwO6UMA3NJbS\n",
    "\n",
    "MyAppToken = getpass()\n",
    "\n",
    "client = Socrata(\"data.kingcounty.gov\",\n",
    "                 MyAppToken,\n",
    "                  username=\"dongsoomikeseo@gmail.com\",\n",
    "                 password=getpass())\n",
    "\n",
    "# First 2000 results, returned as JSON from API / converted to Python list of\n",
    "# dictionaries by sodapy.\n",
    "results = client.get(\"xmnh-jvpd\", limit = 509000)\n",
    "\n",
    "# Convert to pandas DataFrame\n",
    "results_df = pd.DataFrame.from_records(results)"
   ]
  }
 ],
 "metadata": {
  "kernelspec": {
   "display_name": "Python 3",
   "language": "python",
   "name": "python3"
  },
  "language_info": {
   "codemirror_mode": {
    "name": "ipython",
    "version": 3
   },
   "file_extension": ".py",
   "mimetype": "text/x-python",
   "name": "python",
   "nbconvert_exporter": "python",
   "pygments_lexer": "ipython3",
   "version": "3.8.8"
  }
 },
 "nbformat": 4,
 "nbformat_minor": 5
}
